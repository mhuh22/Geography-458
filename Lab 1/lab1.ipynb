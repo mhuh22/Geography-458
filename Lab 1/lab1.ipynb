{
 "cells": [
  {
   "cell_type": "code",
   "execution_count": 1,
   "metadata": {
    "collapsed": false
   },
   "outputs": [],
   "source": [
    "# Name: Matthew Huh\n",
    "# Geography 458\n",
    "# Lab 1\n",
    "\n",
    "#imports necessary access points\n",
    "import sys\n",
    "sys.path.append('C:\\\\Program Files (x86)\\\\ArcGIS\\\\Desktop10.3\\\\bin')\n",
    "sys.path.append('C:\\\\Program Files (x86)\\\\ArcGIS\\\\Desktop10.3\\\\arcpy')\n",
    "sys.path.append('C:\\\\Program Files (x86)\\\\ArcGIS\\\\Desktop10.3\\\\ArcToolbox\\\\Scripts')\n",
    "import arcpy\n",
    "from arcpy import env\n",
    "env.workspace = 'C:\\\\Users\\\\Matt\\\\Downloads\\\\Geog_458\\\\shapefiles'\n",
    "env.overwriteOutput = True\n",
    "from subprocess import call\n",
    "import os\n",
    "os.environ[\"GDAL_DATA\"] = \"C:\\\\OSGeo4W\\\\share\\\\gdal\"\n",
    "os.environ[\"GDAL_DRIVER_PATH\"] = \"C:\\\\OSGeo4W\\\\bin\\\\gdalplugins\"\n",
    "os.environ[\"PROJ_LIB\"] = \"C:\\\\OSGeo4W\\\\share\\\\proj\"\n",
    "os.environ[\"PATH\"] = \"C:\\\\OSGeo4W\\\\bin;\"+os.environ[\"PATH\"]+\";C:\\\\OSGeo4W\\\\apps\\\\msys\\\\bin;C:\\\\OSGeo4W\\\\apps\\\\Python27\\\\Scripts\""
   ]
  },
  {
   "cell_type": "code",
   "execution_count": 2,
   "metadata": {
    "collapsed": false
   },
   "outputs": [
    {
     "ename": "RuntimeError",
     "evalue": "cannot open 'C:\\Users\\Matt\\Downloads\\Geog_458\\WashingtonFIPS.dbf'",
     "output_type": "error",
     "traceback": [
      "\u001b[1;31m---------------------------------------------------------------------------\u001b[0m",
      "\u001b[1;31mRuntimeError\u001b[0m                              Traceback (most recent call last)",
      "\u001b[1;32m<ipython-input-2-06ca697df592>\u001b[0m in \u001b[0;36m<module>\u001b[1;34m()\u001b[0m\n\u001b[0;32m      4\u001b[0m \u001b[1;33m\u001b[0m\u001b[0m\n\u001b[0;32m      5\u001b[0m \u001b[1;31m#Creates search cursor for both files\u001b[0m\u001b[1;33m\u001b[0m\u001b[1;33m\u001b[0m\u001b[0m\n\u001b[1;32m----> 6\u001b[1;33m \u001b[0mcursor1\u001b[0m \u001b[1;33m=\u001b[0m \u001b[0marcpy\u001b[0m\u001b[1;33m.\u001b[0m\u001b[0mda\u001b[0m\u001b[1;33m.\u001b[0m\u001b[0mSearchCursor\u001b[0m\u001b[1;33m(\u001b[0m\u001b[0mcountynames\u001b[0m\u001b[1;33m,\u001b[0m \u001b[1;33m[\u001b[0m\u001b[1;34m\"FIPSCounty\"\u001b[0m\u001b[1;33m,\u001b[0m \u001b[1;34m\"COUNTYNAME\"\u001b[0m\u001b[1;33m]\u001b[0m\u001b[1;33m)\u001b[0m\u001b[1;33m\u001b[0m\u001b[0m\n\u001b[0m\u001b[0;32m      7\u001b[0m \u001b[0mcursor2\u001b[0m \u001b[1;33m=\u001b[0m \u001b[0marcpy\u001b[0m\u001b[1;33m.\u001b[0m\u001b[0mda\u001b[0m\u001b[1;33m.\u001b[0m\u001b[0mSearchCursor\u001b[0m\u001b[1;33m(\u001b[0m\u001b[0mcensusblocks\u001b[0m\u001b[1;33m,\u001b[0m \u001b[1;34m\"*\"\u001b[0m\u001b[1;33m)\u001b[0m\u001b[1;33m\u001b[0m\u001b[0m\n\u001b[0;32m      8\u001b[0m \u001b[1;33m\u001b[0m\u001b[0m\n",
      "\u001b[1;31mRuntimeError\u001b[0m: cannot open 'C:\\Users\\Matt\\Downloads\\Geog_458\\WashingtonFIPS.dbf'"
     ]
    }
   ],
   "source": [
    "#imports the only two input files\n",
    "censusblocks=(\"C:\\\\Users\\\\Matt\\\\Downloads\\\\Geog_458\\\\saep_bg10.shp\")\n",
    "countynames=(\"C:\\\\Users\\\\Matt\\\\Downloads\\\\Geog_458\\\\WashingtonFIPS.dbf\")\n",
    "\n",
    "#Creates search cursor for both files\n",
    "cursor1 = arcpy.da.SearchCursor(countynames, [\"FIPSCounty\", \"COUNTYNAME\"])\n",
    "cursor2 = arcpy.da.SearchCursor(censusblocks, \"*\")\n",
    "\n",
    "# \"SHAPE@\"\n",
    "\n",
    "#Creates geojson files\n",
    "for row in cursor1:    \n",
    "    #creates empty shapefile for each county\n",
    "    if arcpy.Exists('C:\\\\Users\\\\Matt\\\\Downloads\\\\Geog_458\\\\shapefiles\\\\' + row[1]+'.shp'):\n",
    "        arcpy.Delete_management('C:\\\\Users\\\\Matt\\\\Downloads\\\\Geog_458\\\\shapefiles', row[1]+'.shp')\n",
    "    countyshape = arcpy.CreateFeatureclass_management('C:\\\\Users\\\\Matt\\\\Downloads\\\\Geog_458\\\\shapefiles', row[1] + '.shp', \"POLYGON\", \"C:\\\\Users\\\\Matt\\\\Downloads\\\\Geog_458\\\\saep_bg10.shp\")\n",
    "    cursor3 = arcpy.da.InsertCursor(countyshape, \"*\")\n",
    "    \n",
    "    #copies row from countynames and adds them to the new shapefile\n",
    "    for now in cursor2:\n",
    "        if row[0] == now[0]:\n",
    "            cursor3.insertRow(now)\n",
    "    del cursor3\n",
    "    \n",
    "    call(['C:\\\\OSGeo4W\\\\bin\\\\ogr2ogr',\n",
    "        '-f','GeoJSON','-t_srs','WGS84',\n",
    "        '-s_srs','EPSG:2927',\n",
    "        'C:\\\\Users\\\\Matt\\\\Downloads\\\\Geog 458\\\\geojson\\\\' + row[1] + '.geojson',\n",
    "        'C:\\\\Users\\\\Matt\\\\Downloads\\\\Geog 458\\\\shapfiles\\\\' + row[1] + '.shp'])"
   ]
  },
  {
   "cell_type": "code",
   "execution_count": 13,
   "metadata": {
    "collapsed": false
   },
   "outputs": [
    {
     "name": "stdout",
     "output_type": "stream",
     "text": [
      "1) \tKing County Population: \t1980645\n",
      "2) \tPierce County Population: \t812568\n",
      "3) \tSnohomish County Population: \t729395\n",
      "4) \tSpokane County Population: \t479204\n",
      "5) \tClark County Population: \t433535\n",
      "6) \tThurston County Population: \t259293\n",
      "7) \tKitsap County Population: \t252586\n",
      "8) \tYakima County Population: \t246176\n",
      "9) \tWhatcom County Population: \t204582\n",
      "10) \tBenton County Population: \t181005\n"
     ]
    }
   ],
   "source": [
    "#re-creates cursors to search for county id's\n",
    "cursor1 = arcpy.da.SearchCursor(countynames, [\"FIPSCounty\", \"COUNTYNAME\"])\n",
    "cursor2 = arcpy.da.SearchCursor(censusblocks, [\"COUNTYFP10\",\"POP2013\"])\n",
    "\n",
    "#creates 2 lists, population and associated county name\n",
    "poplist=[0]\n",
    "countylist = []\n",
    "\n",
    "#creates population total for each county\n",
    "for row in cursor1:\n",
    "    county = row[0]\n",
    "    population = 0\n",
    "    \n",
    "    #adds to county population total if it is in the same county\n",
    "    for now in cursor2:\n",
    "        if row[0] == now[0]:\n",
    "            population+=now[1]\n",
    "        else:\n",
    "            break\n",
    "            \n",
    "    #resets the counter to move on to the next county\n",
    "    i=0\n",
    "    \n",
    "    #adds items to the list by checking the numbers from largest to smallest, adding them in the correct index\n",
    "    while (poplist[i]>population):\n",
    "        i+=1\n",
    "    poplist.insert(i,int(population))\n",
    "    countylist.insert(i,row[1])\n",
    " \n",
    "#deletes placeholder\n",
    "del poplist[-1]\n",
    "\n",
    "#prints the results\n",
    "for j in range(10):\n",
    "    print str(j+1) + \") \\t\" + countylist[j] + \" County Population: \\t\" + str(poplist[j])    "
   ]
  },
  {
   "cell_type": "code",
   "execution_count": 1,
   "metadata": {
    "collapsed": false
   },
   "outputs": [
    {
     "name": "stdout",
     "output_type": "stream",
     "text": [
      "1) \tKing County Population: \t1980645\n",
      "2) \tPierce County Population: \t812568\n",
      "3) \tSnohomish County Population: \t729395\n",
      "4) \tSpokane County Population: \t479204\n",
      "5) \tClark County Population: \t433535\n",
      "6) \tThurston County Population: \t259293\n",
      "7) \tKitsap County Population: \t252586\n",
      "8) \tYakima County Population: \t246176\n",
      "9) \tWhatcom County Population: \t204582\n",
      "10) \tBenton County Population: \t181005\n"
     ]
    }
   ],
   "source": [
    "# Name: Matthew Huh\n",
    "# Geography 458\n",
    "# Lab 1\n",
    "\n",
    "#imports necessary access points\n",
    "import sys\n",
    "sys.path.append('C:\\\\Program Files (x86)\\\\ArcGIS\\\\Desktop10.3\\\\bin')\n",
    "sys.path.append('C:\\\\Program Files (x86)\\\\ArcGIS\\\\Desktop10.3\\\\arcpy')\n",
    "sys.path.append('C:\\\\Program Files (x86)\\\\ArcGIS\\\\Desktop10.3\\\\ArcToolbox\\\\Scripts')\n",
    "import arcpy\n",
    "from subprocess import call\n",
    "import os\n",
    "os.environ[\"GDAL_DATA\"] = \"C:\\\\OSGeo4W\\\\share\\\\gdal\"\n",
    "os.environ[\"GDAL_DRIVER_PATH\"] = \"C:\\\\OSGeo4W\\\\bin\\\\gdalplugins\"\n",
    "os.environ[\"PROJ_LIB\"] = \"C:\\\\OSGeo4W\\\\share\\\\proj\"\n",
    "os.environ[\"PATH\"] = \"C:\\\\OSGeo4W\\\\bin;\"+os.environ[\"PATH\"]+\";C:\\\\OSGeo4W\\\\apps\\\\msys\\\\bin;C:\\\\OSGeo4W\\\\apps\\\\Python27\\\\Scripts\"\n",
    "\n",
    "#imports the only two input files\n",
    "censusblocks=(\"C:\\\\Users\\\\Matt\\\\Downloads\\\\Geog 458\\\\saep_bg10.shp\")\n",
    "countynames=(\"C:\\\\Users\\\\Matt\\\\Downloads\\\\Geog 458\\\\WashingtonFIPS.dbf\")\n",
    "\n",
    "#Creates search cursor for both files\n",
    "cursor1 = arcpy.da.SearchCursor(countynames, [\"FIPSCounty\", \"COUNTYNAME\"])\n",
    "cursor2 = arcpy.da.SearchCursor(censusblocks, [\"COUNTYFP10\",\"POP2013\"])\n",
    "\n",
    "#Creates geojson files\n",
    "for row in cursor1:    \n",
    "    call(['C:\\\\OSGeo4W\\\\bin\\\\ogr2ogr',\n",
    "        '-f','GeoJSON','-t_srs','WGS84',\n",
    "        '-s_srs','EPSG:2927',\n",
    "        'C:\\\\Users\\\\Matt\\\\Downloads\\\\Geog 458\\\\geojson\\\\' + row[1] + '.geojson',\n",
    "        'C:\\\\Users\\\\Matt\\\\Downloads\\\\Geog 458\\\\saep_bg10.shp'])\n",
    "    countydata = 'C:\\\\Users\\\\Matt\\\\Downloads\\\\Geog 458\\\\geojson\\\\' + row[1] + '.geojson'\n",
    "    fields = arcpy.ListFields(censusblocks, \"FID_*\")\n",
    "#    for field in fields:\n",
    "#        arcpy.AddField_management (countydata, field)\n",
    "#    for now in cursor2:\n",
    "#        if row[0] == now[0]:\n",
    "#            #import data row by row\n",
    "#        else:\n",
    "#            break\n",
    "\n",
    "#re-creates cursors to search for county id's\n",
    "cursor1 = arcpy.da.SearchCursor(countynames, [\"FIPSCounty\", \"COUNTYNAME\"])\n",
    "cursor2 = arcpy.da.SearchCursor(censusblocks, [\"COUNTYFP10\",\"POP2013\"])\n",
    "\n",
    "#creates 2 lists, population and associated county name\n",
    "poplist=[0]\n",
    "countylist = []\n",
    "\n",
    "#creates population total for each county\n",
    "for row in cursor1:\n",
    "    county = row[0]\n",
    "    population = 0\n",
    "    #adds to county population total if it is in the same county\n",
    "    for now in cursor2:\n",
    "        if row[0] == now[0]:\n",
    "            population+=now[1]\n",
    "        else:\n",
    "            break\n",
    "    #resets the counter to move on to the next county\n",
    "    i=0\n",
    "    #adds items to the list by checking the numbers from largest to smallest, adding them in the correct index\n",
    "    while (poplist[i]>population):\n",
    "        i+=1\n",
    "    poplist.insert(i,int(population))\n",
    "    countylist.insert(i,row[1])\n",
    " \n",
    "#deletes placeholder\n",
    "del poplist[-1]\n",
    "for j in range(10):\n",
    "    print str(j+1) + \") \\t\" + countylist[j] + \" County Population: \\t\" + str(poplist[j])  "
   ]
  }
 ],
 "metadata": {
  "kernelspec": {
   "display_name": "Python 2",
   "language": "python",
   "name": "python2"
  },
  "language_info": {
   "codemirror_mode": {
    "name": "ipython",
    "version": 2
   },
   "file_extension": ".py",
   "mimetype": "text/x-python",
   "name": "python",
   "nbconvert_exporter": "python",
   "pygments_lexer": "ipython2",
   "version": "2.7.10"
  }
 },
 "nbformat": 4,
 "nbformat_minor": 0
}
