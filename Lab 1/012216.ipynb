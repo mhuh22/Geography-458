{
 "cells": [
  {
   "cell_type": "code",
   "execution_count": 41,
   "metadata": {
    "collapsed": false
   },
   "outputs": [
    {
     "name": "stdout",
     "output_type": "stream",
     "text": [
      "A1\n",
      "A2\n",
      "A3\n",
      "A4\n",
      "B1\n",
      "B2\n",
      "B3\n",
      "B4\n",
      "C1\n",
      "C2\n",
      "C3\n",
      "C4\n",
      "D1\n",
      "D2\n",
      "D3\n",
      "D4\n"
     ]
    }
   ],
   "source": [
    "mylist = [\"A\",\"B\",\"C\",\"D\"]\n",
    "\n",
    "for x in range (4):\n",
    "    for y in range (1,5):\n",
    "        print mylist[x] + str(y)"
   ]
  },
  {
   "cell_type": "code",
   "execution_count": 13,
   "metadata": {
    "collapsed": false
   },
   "outputs": [
    {
     "name": "stdout",
     "output_type": "stream",
     "text": [
      "8\n"
     ]
    }
   ],
   "source": [
    "def exponential (m,n):\n",
    "    x = 1\n",
    "    if (n == 0):\n",
    "        return 1\n",
    "    elif (n>0):\n",
    "        for i in range (n):\n",
    "            x = x * m\n",
    "        return x\n",
    "    else:\n",
    "        return \"error: does not compute\"\n",
    "print exponential (2,3)"
   ]
  },
  {
   "cell_type": "code",
   "execution_count": 14,
   "metadata": {
    "collapsed": false
   },
   "outputs": [
    {
     "name": "stdout",
     "output_type": "stream",
     "text": [
      "[[1, 2, 3, 4, 5], ['a', 'frgojrojegrerg']]\n"
     ]
    }
   ],
   "source": [
    "list1=[1,2,3,4,5]\n",
    "list2=[\"a\", 'frgojrojegrerg']\n",
    "list3=[list1,list2]\n",
    "print list3"
   ]
  },
  {
   "cell_type": "code",
   "execution_count": 44,
   "metadata": {
    "collapsed": false
   },
   "outputs": [
    {
     "name": "stdout",
     "output_type": "stream",
     "text": [
      "8\n"
     ]
    }
   ],
   "source": [
    "def exponential (m,n):\n",
    "    if (n==0):\n",
    "        return 1\n",
    "    else:\n",
    "        "
   ]
  },
  {
   "cell_type": "code",
   "execution_count": 59,
   "metadata": {
    "collapsed": false
   },
   "outputs": [
    {
     "ename": "ImportError",
     "evalue": "No module named arcpy",
     "output_type": "error",
     "traceback": [
      "\u001b[1;31m---------------------------------------------------------------------------\u001b[0m",
      "\u001b[1;31mImportError\u001b[0m                               Traceback (most recent call last)",
      "\u001b[1;32m<ipython-input-59-468f7eee66fa>\u001b[0m in \u001b[0;36m<module>\u001b[1;34m()\u001b[0m\n\u001b[1;32m----> 1\u001b[1;33m \u001b[1;32mimport\u001b[0m \u001b[0marcpy\u001b[0m\u001b[1;33m\u001b[0m\u001b[0m\n\u001b[0m\u001b[0;32m      2\u001b[0m \u001b[0mmypath\u001b[0m \u001b[1;33m=\u001b[0m \u001b[1;34m\"C:\\\\Users\\\\Matt\\\\Documents\\\\GitHub\\\\class-space-readonly-master\\\\2016-01-22\\\\shapefiles\"\u001b[0m\u001b[1;33m\u001b[0m\u001b[0m\n\u001b[0;32m      3\u001b[0m \u001b[0mbufferstring\u001b[0m \u001b[1;33m=\u001b[0m \u001b[1;34m\"100 meters\"\u001b[0m\u001b[1;33m\u001b[0m\u001b[0m\n\u001b[0;32m      4\u001b[0m \u001b[0moutfile\u001b[0m \u001b[1;33m=\u001b[0m \u001b[1;34m\"C:\\\\Users\\\\Matt\\\\Documents\\\\GitHub\\\\class-space-readonly-master\\\\2016-01-22\\\\shapefiles\\\\outfile\"\u001b[0m\u001b[1;33m\u001b[0m\u001b[0m\n",
      "\u001b[1;31mImportError\u001b[0m: No module named arcpy"
     ]
    }
   ],
   "source": [
    "import arcpy\n",
    "mypath = \"C:\\\\Users\\\\Matt\\\\Documents\\\\GitHub\\\\class-space-readonly-master\\\\2016-01-22\\\\shapefiles\"\n",
    "bufferstring = \"100 meters\"\n",
    "outfile = \"C:\\\\Users\\\\Matt\\\\Documents\\\\GitHub\\\\class-space-readonly-master\\\\2016-01-22\\\\output\"\n",
    "\n",
    "for shapefile in mypath"
   ]
  }
 ],
 "metadata": {
  "kernelspec": {
   "display_name": "Python 2",
   "language": "python",
   "name": "python2"
  },
  "language_info": {
   "codemirror_mode": {
    "name": "ipython",
    "version": 2
   },
   "file_extension": ".py",
   "mimetype": "text/x-python",
   "name": "python",
   "nbconvert_exporter": "python",
   "pygments_lexer": "ipython2",
   "version": "2.7.10"
  }
 },
 "nbformat": 4,
 "nbformat_minor": 0
}
